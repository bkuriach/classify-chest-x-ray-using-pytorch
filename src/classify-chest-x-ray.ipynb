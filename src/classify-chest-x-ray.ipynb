{
 "metadata": {
  "language_info": {
   "codemirror_mode": {
    "name": "ipython",
    "version": 3
   },
   "file_extension": ".py",
   "mimetype": "text/x-python",
   "name": "python",
   "nbconvert_exporter": "python",
   "pygments_lexer": "ipython3",
   "version": "3.6.9"
  },
  "orig_nbformat": 4,
  "kernelspec": {
   "name": "python3",
   "display_name": "Python 3.6.9 64-bit ('classify-xray': conda)"
  },
  "interpreter": {
   "hash": "c7666b3940f56792e3b70f3beab4f58a276d88a41d82100fc7b80f85e1d88ac1"
  }
 },
 "nbformat": 4,
 "nbformat_minor": 2,
 "cells": [
  {
   "source": [
    "# Detecting COVID-19 with Chest X Ray using PyTorch\n",
    "Image classification of Chest X Rays in one of three classes: Normal, Viral Pneumonia, COVID-19\n",
    "\n",
    "Notebook created for the guided project Detecting COVID-19 with Chest X Ray using PyTorch on Coursera\n",
    "\n",
    "Dataset from COVID-19 Radiography Dataset on Kaggle"
   ],
   "cell_type": "markdown",
   "metadata": {}
  },
  {
   "source": [
    "# Import Libraries"
   ],
   "cell_type": "markdown",
   "metadata": {}
  },
  {
   "cell_type": "code",
   "execution_count": 1,
   "metadata": {},
   "outputs": [
    {
     "output_type": "stream",
     "name": "stdout",
     "text": [
      "Using PyTorch version 1.4.0\n"
     ]
    }
   ],
   "source": [
    "%matplotlib inline\n",
    "\n",
    "import os\n",
    "import shutil\n",
    "import random\n",
    "import torch\n",
    "import torchvision\n",
    "import numpy as np\n",
    "\n",
    "from PIL import Image\n",
    "from matplotlib import pyplot as plt\n",
    "\n",
    "torch.manual_seed(0)\n",
    "\n",
    "print('Using PyTorch version', torch.__version__)"
   ]
  },
  {
   "source": [
    "# Preparing Training and Test Sets\n"
   ],
   "cell_type": "markdown",
   "metadata": {}
  },
  {
   "cell_type": "code",
   "execution_count": 2,
   "metadata": {},
   "outputs": [],
   "source": [
    "class_names = ['normal', 'viral', 'covid']\n",
    "root_dir = 'data/COVID-19 Radiography Database'\n",
    "source_dirs = ['Normal', 'Viral Pneumonia', 'COVID']\n",
    "\n",
    "if os.path.isdir(os.path.join(root_dir, source_dirs[1])):\n",
    "    os.mkdir(os.path.join(root_dir, 'test'))\n",
    "\n",
    "    for i, d in enumerate(source_dirs):\n",
    "        os.rename(os.path.join(root_dir, d), os.path.join(root_dir, class_names[i]))\n",
    "\n",
    "    for c in class_names:\n",
    "        os.mkdir(os.path.join(root_dir, 'test', c))\n",
    "\n",
    "    for c in class_names:\n",
    "        images = [x for x in os.listdir(os.path.join(root_dir, c)) if x.lower().endswith('png')]\n",
    "        selected_images = random.sample(images, 30)\n",
    "        for image in selected_images:\n",
    "            source_path = os.path.join(root_dir, c, image)\n",
    "            target_path = os.path.join(root_dir, 'test', c, image)\n",
    "            shutil.move(source_path, target_path)"
   ]
  },
  {
   "source": [
    "# Creating custom Dataset"
   ],
   "cell_type": "markdown",
   "metadata": {}
  },
  {
   "cell_type": "code",
   "execution_count": 4,
   "metadata": {},
   "outputs": [],
   "source": [
    "class ChestXRayDataset(torch.utils.data.Dataset):\n",
    "    def __init__(self, image_dirs, transforms):\n",
    "        def get_imaegs(class_name):\n",
    "            images = [x for x in os.listdir(image_dirs[class_name]) if x.lower().endswith('png')]\n",
    "            print('Found {len(images)} {class_name} examples ')\n",
    "            return images\n",
    "        self.images = {}\n",
    "        self.class_names = ['normal', 'viral', 'covid']\n",
    "        \n",
    "        for c in self.class_names:\n",
    "            self.images[c] = get_images(c)\n",
    "        \n",
    "        self.image_dirs = image_dirs\n",
    "        self.transorm = transform\n",
    "\n",
    "    def __len__(self):\n",
    "        return sum([len(self.images[c]) or c in self.class_names])\n",
    "        \n",
    "    def __getitem__(self, index):\n",
    "        class_name = randdom.choice(self.class_names)\n",
    "        index = index % len(self.images[class_name])\n",
    "        image_name = self.images[class_name][index]\n",
    "        image_path = os.path.join(self.image_dirs[class_name],image_name)\n",
    "        image = Image.open(image_path).convert('RGB')\n",
    "        return self.transform(image), self.class_names.index(class_name)\n",
    "\n"
   ]
  },
  {
   "source": [
    "# Image Transformations"
   ],
   "cell_type": "markdown",
   "metadata": {}
  },
  {
   "cell_type": "code",
   "execution_count": null,
   "metadata": {},
   "outputs": [],
   "source": []
  }
 ]
}